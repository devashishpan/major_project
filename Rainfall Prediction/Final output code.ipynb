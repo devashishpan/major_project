{
 "cells": [
  {
   "cell_type": "code",
   "execution_count": 10,
   "id": "d05be01a-2971-4300-a119-c7b509af0536",
   "metadata": {
    "tags": []
   },
   "outputs": [],
   "source": [
    "import pandas as pd\n",
    "from sklearn import linear_model\n",
    "import joblib as jb\n",
    "import numpy as np\n",
    "\n",
    "data = pd.read_csv(\n",
    "    'https://raw.githubusercontent.com/'\n",
    "    'devashishpan/major_project/master/Datasets/'\n",
    "    'rainfall%20in%20india%201901-2017.csv'\n",
    ")\n",
    "\n",
    "subdivisions = data.SUBDIVISION.unique()\n",
    "\n",
    "groups = data.groupby('SUBDIVISION')[['YEAR',\n",
    "                                      'JAN','FEB','MAR',\n",
    "                                      'APR','MAY','JUN',\n",
    "                                      'JUL','AUG','SEP',\n",
    "                                      'OCT','NOV','DEC'\n",
    "                                     ]]\n",
    "\n",
    "def create_dataset(dataset, window_size = 1):\n",
    "    data_X, data_Y = [], []\n",
    "    for i in range(len(dataset) - window_size - 1):\n",
    "        a = dataset[i:(i + window_size), 0]\n",
    "        data_X.append(a)\n",
    "        data_Y.append(dataset[i + window_size, 0])\n",
    "    return(np.array(data_X), np.array(data_Y))\n",
    "\n",
    "def fit_model_elasticnet(train_X, train_Y):\n",
    "    model = linear_model.ElasticNet(alpha=0.5)\n",
    "    model.fit(train_X, train_Y)\n",
    "    return(model)\n",
    "\n",
    "\n",
    "\n",
    "d={'JAN':1,'FEB':2,'MAR' :3,'APR':4,'MAY':5,'JUN':6,'JUL':7,'AUG':8,'SEP':9,\n",
    "   'OCT':10,'NOV':11,'DEC':12}\n",
    "TRAIN_SIZE = 0.80\n",
    "window_size = 1\n",
    "\n",
    "def create_models(groups):\n",
    "    for i in subdivisions:\n",
    "        temp = groups.get_group((i))\n",
    "        temp = temp.melt(['YEAR']).reset_index()\n",
    "        temp = temp[['index','YEAR','variable','value']].sort_values(by=['YEAR','index'])\n",
    "        temp.columns=['INDEX','YEAR','Month','avg_rainfall']\n",
    "        temp['Month'] = temp['Month'].map(d)\n",
    "        dataset=temp[['avg_rainfall']]\n",
    "        m = dataset.mean()[0]\n",
    "        data_raw = dataset.values.astype(\"float32\")\n",
    "        for i in range(len(data_raw)):\n",
    "            if(np.isnan(data_raw[i])):\n",
    "                data_raw[i] = m\n",
    "        train_size = int(len(data_raw) * TRAIN_SIZE)\n",
    "        test_size = len(data_raw) - train_size\n",
    "        train, test = data_raw[0:train_size, :], data_raw[train_size:len(dataset), :]\n",
    "        train_X, train_Y = create_dataset(train, window_size)\n",
    "        test_X, test_Y = create_dataset(test, window_size)\n",
    "        model_elasticnet = fit_model_elasticnet(train_X,train_Y)\n",
    "        jb.dump(model_elasticnet,f\"models/{i}.model\")\n",
    "\n",
    "create_models(groups)"
   ]
  },
  {
   "cell_type": "code",
   "execution_count": 24,
   "id": "7f413e84-ffdd-4d8b-ba4b-04e629d3be8c",
   "metadata": {
    "tags": []
   },
   "outputs": [
    {
     "data": {
      "image/png": "[encoded data removed]",
      "text/plain": [
       "<Figure size 720x576 with 1 Axes>"
      ]
     },
     "metadata": {
      "needs_background": "light"
     },
     "output_type": "display_data"
    }
   ],
   "source": [
    "model = jb.load(\"models/Jharkhand.model\")\n",
    "\n",
    "inputs = [27.8,25.3,18.93,24.93,73.8,184.8,310.7,330.5,220.6,75.09,10.88,7.09]\n",
    "\n",
    "outputs= []\n",
    "for i in inputs[:-1]:\n",
    "    t = model.predict([[i]])\n",
    "    outputs.append(t)\n",
    "\n",
    "import matplotlib.pyplot  as plt\n",
    "plt.figure(figsize = (10,8))\n",
    "plt.plot(inputs[:-1], label = \"True value\",color='blue')\n",
    "plt.plot(outputs , label = \"Predicted value\",color='yellow')\n",
    "plt.xlabel(\"Months\")\n",
    "plt.legend()\n",
    "plt.show()"
   ]
  },
  {
   "cell_type": "code",
   "execution_count": 45,
   "id": "4079ccc5-8291-4930-a9c5-155398c83cf7",
   "metadata": {},
   "outputs": [
    {
     "data": {
      "text/plain": [
       "[(5, 2, 0),\n",
       " (5, 2, 5),\n",
       " (5, 0, 2),\n",
       " (5, 0, 5),\n",
       " (5, 5, 2),\n",
       " (5, 5, 0),\n",
       " (2, 5, 0),\n",
       " (2, 5, 5),\n",
       " (2, 0, 5),\n",
       " (2, 0, 5),\n",
       " (2, 5, 5),\n",
       " (2, 5, 0),\n",
       " (0, 5, 2),\n",
       " (0, 5, 5),\n",
       " (0, 2, 5),\n",
       " (0, 2, 5),\n",
       " (0, 5, 5),\n",
       " (0, 5, 2),\n",
       " (5, 5, 2),\n",
       " (5, 5, 0),\n",
       " (5, 2, 5),\n",
       " (5, 2, 0),\n",
       " (5, 0, 5),\n",
       " (5, 0, 2),\n",
       " (5, 2, 0, 5),\n",
       " (5, 2, 5, 0),\n",
       " (5, 0, 2, 5),\n",
       " (5, 0, 5, 2),\n",
       " (5, 5, 2, 0),\n",
       " (5, 5, 0, 2),\n",
       " (2, 5, 0, 5),\n",
       " (2, 5, 5, 0),\n",
       " (2, 0, 5, 5),\n",
       " (2, 0, 5, 5),\n",
       " (2, 5, 5, 0),\n",
       " (2, 5, 0, 5),\n",
       " (0, 5, 2, 5),\n",
       " (0, 5, 5, 2),\n",
       " (0, 2, 5, 5),\n",
       " (0, 2, 5, 5),\n",
       " (0, 5, 5, 2),\n",
       " (0, 5, 2, 5),\n",
       " (5, 5, 2, 0),\n",
       " (5, 5, 0, 2),\n",
       " (5, 2, 5, 0),\n",
       " (5, 2, 0, 5),\n",
       " (5, 0, 5, 2),\n",
       " (5, 0, 2, 5)]"
      ]
     },
     "execution_count": 45,
     "metadata": {},
     "output_type": "execute_result"
    }
   ],
   "source": [
    "import itertools\n",
    "t2 = list(itertools.permutations([5,2,0,5],3)) + list(itertools.permutations([5,2,0,5]))\n",
    "\n",
    "t = [i for i in t2 if(2 in i)]\n",
    "t2"
   ]
  },
  {
   "cell_type": "code",
   "execution_count": 44,
   "id": "2d67e8b6-3fe9-4014-9d95-6e5f18e3d344",
   "metadata": {},
   "outputs": [
    {
     "data": {
      "text/plain": [
       "{205, 250, 502, 520, 2055, 2505, 2550, 5025, 5052, 5205, 5250, 5502, 5520}"
      ]
     },
     "execution_count": 44,
     "metadata": {},
     "output_type": "execute_result"
    }
   ],
   "source": [
    "k = []\n",
    "for i in t:\n",
    "    string_ints = [str(j) for j in i]\n",
    "    #print(string_ints)\n",
    "    y = int(\"\".join(string_ints))\n",
    "    if('0' in str(y)):\n",
    "        k.append(y)\n",
    "set(k)"
   ]
  },
  {
   "cell_type": "code",
   "execution_count": null,
   "id": "65195464-79b2-4c91-8c3c-5e2bb1cfce45",
   "metadata": {},
   "outputs": [],
   "source": [
    "import itertools\n",
    "t = list(itertools.permutations([5,2,0,5]))\n",
    "\n",
    "for i in t:\n",
    "\tstring_ints = [str(j) for j in i]\n",
    "\tprint(int(\",\".join(string_ints)))"
   ]
  }
 ],
 "metadata": {
  "kernelspec": {
   "display_name": "Python 3 (ipykernel)",
   "language": "python",
   "name": "python3"
  },
  "language_info": {
   "codemirror_mode": {
    "name": "ipython",
    "version": 3
   },
   "file_extension": ".py",
   "mimetype": "text/x-python",
   "name": "python",
   "nbconvert_exporter": "python",
   "pygments_lexer": "ipython3",
   "version": "3.8.10"
  }
 },
 "nbformat": 4,
 "nbformat_minor": 5
}
